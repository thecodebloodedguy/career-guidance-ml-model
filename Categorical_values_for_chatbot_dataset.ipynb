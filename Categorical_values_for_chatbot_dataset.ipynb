{
  "cells": [
    {
      "cell_type": "markdown",
      "metadata": {
        "id": "view-in-github",
        "colab_type": "text"
      },
      "source": [
        "<a href=\"https://colab.research.google.com/github/thecodebloodedguy/career-guidance-ml-model/blob/main/Categorical_values_for_chatbot_dataset.ipynb\" target=\"_parent\"><img src=\"https://colab.research.google.com/assets/colab-badge.svg\" alt=\"Open In Colab\"/></a>"
      ]
    },
    {
      "cell_type": "code",
      "execution_count": null,
      "metadata": {
        "id": "XdEK83CBaXUO"
      },
      "outputs": [],
      "source": [
        "# importing module\n",
        "from pandas import *\n",
        "data = read_csv(\"dataset-github.csv\")"
      ]
    },
    {
      "cell_type": "markdown",
      "metadata": {
        "id": "TRdtE2slaXUS"
      },
      "source": [
        "Certification"
      ]
    },
    {
      "cell_type": "code",
      "execution_count": null,
      "metadata": {
        "id": "hd8c8WilaXUU"
      },
      "outputs": [],
      "source": [
        "courses = data['certifications'].tolist()"
      ]
    },
    {
      "cell_type": "code",
      "execution_count": null,
      "metadata": {
        "id": "fcESbCvPaXUV",
        "outputId": "351646d2-ca75-42d0-cc8c-966104415ccb"
      },
      "outputs": [
        {
          "name": "stdout",
          "output_type": "stream",
          "text": [
            "{'machine learning', 'hadoop', 'python', 'information security', 'app development', 'shell programming', 'r programming', 'distro making', 'full stack'}\n",
            "9\n"
          ]
        }
      ],
      "source": [
        "print((set)(courses))\n",
        "print(len((set)(courses)))"
      ]
    },
    {
      "cell_type": "code",
      "execution_count": null,
      "metadata": {
        "id": "VVO2GWd9aXUW",
        "outputId": "dfdad71e-4814-4323-f2c7-4ab2c4f6d51e"
      },
      "outputs": [
        {
          "data": {
            "text/plain": [
              "{1: 'machine learning',\n",
              " 2: 'hadoop',\n",
              " 3: 'python',\n",
              " 4: 'information security',\n",
              " 5: 'app development',\n",
              " 6: 'shell programming',\n",
              " 7: 'r programming',\n",
              " 8: 'distro making',\n",
              " 9: 'full stack'}"
            ]
          },
          "execution_count": 14,
          "metadata": {},
          "output_type": "execute_result"
        }
      ],
      "source": [
        "d1 = {1:'machine learning',2:'hadoop',3:'python',4:'information security',5:'app development',6:'shell programming',\n",
        "      7:'r programming',8:'distro making',9:'full stack'}\n",
        "d1"
      ]
    },
    {
      "cell_type": "raw",
      "metadata": {
        "id": "c_m_kO0TaXUW"
      },
      "source": [
        "Workshops"
      ]
    },
    {
      "cell_type": "code",
      "execution_count": null,
      "metadata": {
        "id": "yz8k6Y51aXUX",
        "outputId": "fed876a8-e09e-4505-d679-6d2487d82d2d"
      },
      "outputs": [
        {
          "name": "stdout",
          "output_type": "stream",
          "text": [
            "{'data science', 'system designing', 'testing', 'game development', 'web technologies', 'database security', 'hacking', 'cloud computing'}\n",
            "8\n"
          ]
        }
      ],
      "source": [
        "workshops = data['workshops'].tolist()\n",
        "print((set)(workshops))\n",
        "print(len((set)(workshops)))"
      ]
    },
    {
      "cell_type": "code",
      "execution_count": null,
      "metadata": {
        "id": "O7AWybbMaXUX",
        "outputId": "504c4f71-ed4d-47df-84d5-de27af0b994d"
      },
      "outputs": [
        {
          "data": {
            "text/plain": [
              "{1: 'data science',\n",
              " 2: 'system designing',\n",
              " 3: 'testing',\n",
              " 4: 'game development',\n",
              " 5: 'web technologies',\n",
              " 6: 'database security',\n",
              " 7: 'hacking',\n",
              " 8: 'cloud computing'}"
            ]
          },
          "execution_count": 15,
          "metadata": {},
          "output_type": "execute_result"
        }
      ],
      "source": [
        "d2 = {1:'data science',2:'system designing',3:'testing',4:'game development',5:'web technologies',6:'database security',\n",
        "      7:'hacking',8:'cloud computing'}\n",
        "d2"
      ]
    },
    {
      "cell_type": "markdown",
      "metadata": {
        "id": "ZDCHf_q_aXUY"
      },
      "source": [
        "Interested Subjects"
      ]
    },
    {
      "cell_type": "code",
      "execution_count": null,
      "metadata": {
        "id": "dG9KJEJIaXUY",
        "outputId": "fc5a8bd8-58e7-4839-a23c-7ce4ef0eab24"
      },
      "outputs": [
        {
          "name": "stdout",
          "output_type": "stream",
          "text": [
            "{'IOT', 'programming', 'Computer Architecture', 'Management', 'Software Engineering', 'hacking', 'parallel computing', 'cloud computing', 'networks', 'data engineering'}\n",
            "10\n"
          ]
        }
      ],
      "source": [
        "subject = data['Interested subjects'].tolist()\n",
        "print((set)(subject))\n",
        "print(len((set)(subject)))"
      ]
    },
    {
      "cell_type": "code",
      "execution_count": null,
      "metadata": {
        "id": "3-ezgCPaaXUZ",
        "outputId": "cd1cf9a4-492b-4dfc-cac3-8aa7811a67bf"
      },
      "outputs": [
        {
          "data": {
            "text/plain": [
              "{1: 'IOT',\n",
              " 2: 'programming',\n",
              " 3: 'Computer Architecture',\n",
              " 4: 'Management',\n",
              " 5: 'Software Engineering',\n",
              " 6: 'hacking',\n",
              " 7: 'parallel computing',\n",
              " 8: 'cloud computing',\n",
              " 9: 'networks',\n",
              " 10: 'data engineering'}"
            ]
          },
          "execution_count": 26,
          "metadata": {},
          "output_type": "execute_result"
        }
      ],
      "source": [
        "d3 = {1:'IOT',2:'programming',3:'Computer Architecture',4:'Management',5:'Software Engineering',6:'hacking',\n",
        "      7:'parallel computing',8:'cloud computing',9:'networks',10:'data engineering'}\n",
        "d3"
      ]
    },
    {
      "cell_type": "markdown",
      "metadata": {
        "id": "JiDG6dG_aXUZ"
      },
      "source": [
        "Interested Career Area "
      ]
    },
    {
      "cell_type": "code",
      "execution_count": null,
      "metadata": {
        "id": "HPAiwXcqaXUa",
        "outputId": "e1b62189-fb57-48ba-8789-27b38cd421d5"
      },
      "outputs": [
        {
          "name": "stdout",
          "output_type": "stream",
          "text": [
            "{'testing', 'system developer', 'security', 'Business process analyst', 'developer', 'cloud computing'}\n",
            "6\n"
          ]
        }
      ],
      "source": [
        "career = data['interested career area '].tolist()\n",
        "print((set)(career))\n",
        "print(len((set)(career)))"
      ]
    },
    {
      "cell_type": "code",
      "execution_count": null,
      "metadata": {
        "id": "wQKe8sRvaXUa",
        "outputId": "165999c3-ee9c-4ba2-9a74-f33a4305fef8"
      },
      "outputs": [
        {
          "data": {
            "text/plain": [
              "{1: 'testing',\n",
              " 2: 'system developer',\n",
              " 3: 'security',\n",
              " 4: 'Business process analyst',\n",
              " 5: 'developer',\n",
              " 6: 'cloud computing'}"
            ]
          },
          "execution_count": 27,
          "metadata": {},
          "output_type": "execute_result"
        }
      ],
      "source": [
        "d4 = {1:'testing',2:'system developer',3:'security',4:'Business process analyst',5:'developer',6:'cloud computing'}\n",
        "d4"
      ]
    },
    {
      "cell_type": "markdown",
      "metadata": {
        "id": "LIXgauktaXUa"
      },
      "source": [
        "Type of company want to settle in?"
      ]
    },
    {
      "cell_type": "code",
      "execution_count": null,
      "metadata": {
        "id": "bsRUjQ5aaXUb",
        "outputId": "0c4fda3d-7e4d-4d5c-ceeb-2769aa59fed4"
      },
      "outputs": [
        {
          "name": "stdout",
          "output_type": "stream",
          "text": [
            "{'SAaS services', 'Product based', 'Service Based', 'BPA', 'Cloud Services', 'Web Services', 'Finance', 'Testing and Maintainance Services', 'Sales and Marketing', 'product development'}\n",
            "10\n"
          ]
        }
      ],
      "source": [
        "company = data['Type of company want to settle in?'].tolist()\n",
        "print((set)(company))\n",
        "print(len((set)(company)))"
      ]
    },
    {
      "cell_type": "code",
      "execution_count": null,
      "metadata": {
        "id": "LKLlZKvsaXUb",
        "outputId": "50339bbd-2693-4a4d-cdc9-d2b448918910"
      },
      "outputs": [
        {
          "data": {
            "text/plain": [
              "{1: 'SAaS services',\n",
              " 2: 'Product based',\n",
              " 3: 'Service Based',\n",
              " 4: 'BPA',\n",
              " 5: 'Cloud Services',\n",
              " 6: 'Web Services',\n",
              " 7: 'Finance',\n",
              " 8: 'Testing and Maintenance Services',\n",
              " 9: 'Sales and Marketing',\n",
              " 10: 'product development'}"
            ]
          },
          "execution_count": 28,
          "metadata": {},
          "output_type": "execute_result"
        }
      ],
      "source": [
        "d5 = {1:'SAaS services',2:'Product based',3:'Service Based',4:'BPA',5:'Cloud Services',6:'Web Services',\n",
        "      7:'Finance',8:'Testing and Maintenance Services',9:'Sales and Marketing',10:'product development'}\n",
        "d5"
      ]
    },
    {
      "cell_type": "markdown",
      "metadata": {
        "id": "cgRK3EIfaXUb"
      },
      "source": [
        "Suggested Job Role"
      ]
    },
    {
      "cell_type": "code",
      "execution_count": null,
      "metadata": {
        "id": "2SV4lFuoaXUc",
        "outputId": "74f65717-991c-46c4-f37b-1b4d7fab58f1"
      },
      "outputs": [
        {
          "name": "stdout",
          "output_type": "stream",
          "text": [
            "{'Database Developer', 'Network Security Engineer', 'CRM Technical Developer', 'Solutions Architect', 'Technical Services/Help Desk/Tech Support', 'Technical Engineer', 'UX Designer', 'CRM Business Analyst', 'Mobile Applications Developer', 'Software Engineer', 'Programmer Analyst', 'E-Commerce Analyst', 'Portal Administrator', 'Software Quality Assurance (QA) / Testing', 'Software Developer', 'Web Developer', 'Database Administrator', 'Data Architect', 'Business Systems Analyst', 'Database Manager', 'Quality Assurance Associate', 'Design & UX', 'Project Manager', 'Systems Analyst', 'Applications Developer', 'Network Engineer', 'Information Technology Auditor', 'Information Technology Manager', 'Software Systems Engineer', 'Network Security Administrator', 'Information Security Analyst', 'Technical Support', 'Business Intelligence Analyst', 'Systems Security Administrator'}\n",
            "34\n"
          ]
        }
      ],
      "source": [
        "job = data['Suggested Job Role'].tolist()\n",
        "print((set)(job))\n",
        "print(len((set)(job)))"
      ]
    },
    {
      "cell_type": "code",
      "execution_count": null,
      "metadata": {
        "id": "VoQAq1f2aXUc",
        "outputId": "151c33bc-ba54-4c2b-a618-4b78592461d7"
      },
      "outputs": [
        {
          "name": "stdout",
          "output_type": "stream",
          "text": [
            "[1, 2, 3, 4, 5, 6, 7, 8, 9, 10, 11, 12, 13, 14, 15, 16, 17, 18, 19, 20, 21, 22, 23, 24, 25, 26, 27, 28, 29, 30, 31, 32, 33, 34]\n"
          ]
        }
      ],
      "source": [
        "l = list(range(1,35))\n",
        "print(l)"
      ]
    },
    {
      "cell_type": "code",
      "execution_count": null,
      "metadata": {
        "id": "Dg5pFFoXaXUc",
        "outputId": "88c7ba8c-666d-43d4-a83d-1b0156aa01a9"
      },
      "outputs": [
        {
          "name": "stdout",
          "output_type": "stream",
          "text": [
            "{1: 'Database Developer', 2: 'Network Security Engineer', 3: 'CRM Technical Developer', 4: 'Solutions Architect', 5: 'Technical Services/Help Desk/Tech Support', 6: 'Technical Engineer', 7: 'UX Designer', 8: 'CRM Business Analyst', 9: 'Mobile Applications Developer', 10: 'Software Engineer', 11: 'Programmer Analyst', 12: 'E-Commerce Analyst', 13: 'Portal Administrator', 14: 'Software Quality Assurance (QA) / Testing', 15: 'Software Developer', 16: 'Web Developer', 17: 'Database Administrator', 18: 'Data Architect', 19: 'Business Systems Analyst', 20: 'Database Manager', 21: 'Quality Assurance Associate', 22: 'Design & UX', 23: 'Project Manager', 24: 'Systems Analyst', 25: 'Applications Developer', 26: 'Network Engineer', 27: 'Information Technology Auditor', 28: 'Information Technology Manager', 29: 'Software Systems Engineer', 30: 'Network Security Administrator', 31: 'Information Security Analyst', 32: 'Technical Support', 33: 'Business Intelligence Analyst', 34: 'Systems Security Administrator'}\n"
          ]
        }
      ],
      "source": [
        "d5=zip(l,(set)(job))\n",
        "print (dict(d5))"
      ]
    },
    {
      "cell_type": "markdown",
      "metadata": {
        "id": "Z4OqgKObaXUd"
      },
      "source": [
        "Job/Higher Studies?"
      ]
    },
    {
      "cell_type": "code",
      "execution_count": null,
      "metadata": {
        "id": "cKo7ZBpGaXUd",
        "outputId": "ed234bc0-a247-4e9b-c12e-28dc30b0e44e"
      },
      "outputs": [
        {
          "name": "stdout",
          "output_type": "stream",
          "text": [
            "{'job', 'higherstudies'}\n",
            "2\n"
          ]
        }
      ],
      "source": [
        "job_or_study = data['Job/Higher Studies?'].tolist()\n",
        "print((set)(job_or_study))\n",
        "print(len((set)(job_or_study)))"
      ]
    },
    {
      "cell_type": "code",
      "execution_count": null,
      "metadata": {
        "id": "tCv_hO2EaXUd",
        "outputId": "7053eede-e4ba-4cd8-c130-a5cc4064fc37"
      },
      "outputs": [
        {
          "data": {
            "text/plain": [
              "{2: 'job', 3: 'higherstudies'}"
            ]
          },
          "execution_count": 34,
          "metadata": {},
          "output_type": "execute_result"
        }
      ],
      "source": [
        "d6 ={2:'job',3:'higherstudies'}\n",
        "d6"
      ]
    },
    {
      "cell_type": "markdown",
      "metadata": {
        "id": "z6vFYOrYaXUd"
      },
      "source": [
        "Management or Technical"
      ]
    },
    {
      "cell_type": "code",
      "execution_count": null,
      "metadata": {
        "id": "9Ken3nR3aXUd",
        "outputId": "93843725-9d40-4ef5-baf8-03f50f602fd1"
      },
      "outputs": [
        {
          "name": "stdout",
          "output_type": "stream",
          "text": [
            "{'Technical', 'Management'}\n",
            "2\n"
          ]
        }
      ],
      "source": [
        "man_or_tech = data['Management or Technical'].tolist()\n",
        "print((set)(man_or_tech))\n",
        "print(len((set)(man_or_tech)))"
      ]
    },
    {
      "cell_type": "code",
      "execution_count": null,
      "metadata": {
        "id": "MjMcPpLNaXUe",
        "outputId": "444181f4-7f1e-4a64-c817-1d11fd7b32c3"
      },
      "outputs": [
        {
          "data": {
            "text/plain": [
              "{2: 'technical', 3: 'management'}"
            ]
          },
          "execution_count": 36,
          "metadata": {},
          "output_type": "execute_result"
        }
      ],
      "source": [
        "d7 ={2:'technical',3:'management'}\n",
        "d7"
      ]
    },
    {
      "cell_type": "code",
      "execution_count": null,
      "metadata": {
        "id": "7-Q7V0OaaXUe"
      },
      "outputs": [],
      "source": []
    }
  ],
  "metadata": {
    "kernelspec": {
      "display_name": "Python 3",
      "language": "python",
      "name": "python3"
    },
    "language_info": {
      "codemirror_mode": {
        "name": "ipython",
        "version": 3
      },
      "file_extension": ".py",
      "mimetype": "text/x-python",
      "name": "python",
      "nbconvert_exporter": "python",
      "pygments_lexer": "ipython3",
      "version": "3.8.3"
    },
    "colab": {
      "provenance": [],
      "include_colab_link": true
    }
  },
  "nbformat": 4,
  "nbformat_minor": 0
}
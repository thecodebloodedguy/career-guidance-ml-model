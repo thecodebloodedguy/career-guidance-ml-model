{
  "nbformat": 4,
  "nbformat_minor": 0,
  "metadata": {
    "colab": {
      "provenance": [],
      "collapsed_sections": [],
      "include_colab_link": true
    },
    "kernelspec": {
      "name": "python3",
      "display_name": "Python 3"
    },
    "language_info": {
      "name": "python"
    }
  },
  "cells": [
    {
      "cell_type": "markdown",
      "metadata": {
        "id": "view-in-github",
        "colab_type": "text"
      },
      "source": [
        "<a href=\"https://colab.research.google.com/github/thecodebloodedguy/career-guidance-ml-model/blob/main/ChatBot_Response.ipynb\" target=\"_parent\"><img src=\"https://colab.research.google.com/assets/colab-badge.svg\" alt=\"Open In Colab\"/></a>"
      ]
    },
    {
      "cell_type": "code",
      "execution_count": null,
      "metadata": {
        "colab": {
          "base_uri": "https://localhost:8080/"
        },
        "id": "GhoSYpvFq-IL",
        "outputId": "bcf9f2d7-afbf-4e1e-e085-d8bc8d774b59"
      },
      "outputs": [
        {
          "output_type": "stream",
          "name": "stdout",
          "text": [
            "Looking in indexes: https://pypi.org/simple, https://us-python.pkg.dev/colab-wheels/public/simple/\n",
            "Requirement already satisfied: chatterbot in /usr/local/lib/python3.7/dist-packages (1.0.4)\n",
            "Requirement already satisfied: pint>=0.8.1 in /usr/local/lib/python3.7/dist-packages (from chatterbot) (0.18)\n",
            "Requirement already satisfied: nltk<4.0,>=3.2 in /usr/local/lib/python3.7/dist-packages (from chatterbot) (3.7)\n",
            "Requirement already satisfied: python-dateutil<2.8,>=2.7 in /usr/local/lib/python3.7/dist-packages (from chatterbot) (2.7.5)\n",
            "Requirement already satisfied: chatterbot-corpus<1.3,>=1.2 in /usr/local/lib/python3.7/dist-packages (from chatterbot) (1.2.0)\n",
            "Requirement already satisfied: pymongo<4.0,>=3.3 in /usr/local/lib/python3.7/dist-packages (from chatterbot) (3.12.3)\n",
            "Requirement already satisfied: sqlalchemy<1.3,>=1.2 in /usr/local/lib/python3.7/dist-packages (from chatterbot) (1.2.19)\n",
            "Requirement already satisfied: mathparse<0.2,>=0.1 in /usr/local/lib/python3.7/dist-packages (from chatterbot) (0.1.2)\n",
            "Requirement already satisfied: PyYAML<4.0,>=3.12 in /usr/local/lib/python3.7/dist-packages (from chatterbot-corpus<1.3,>=1.2->chatterbot) (3.13)\n",
            "Requirement already satisfied: tqdm in /usr/local/lib/python3.7/dist-packages (from nltk<4.0,>=3.2->chatterbot) (4.64.1)\n",
            "Requirement already satisfied: click in /usr/local/lib/python3.7/dist-packages (from nltk<4.0,>=3.2->chatterbot) (7.1.2)\n",
            "Requirement already satisfied: regex>=2021.8.3 in /usr/local/lib/python3.7/dist-packages (from nltk<4.0,>=3.2->chatterbot) (2022.6.2)\n",
            "Requirement already satisfied: joblib in /usr/local/lib/python3.7/dist-packages (from nltk<4.0,>=3.2->chatterbot) (1.1.0)\n",
            "Requirement already satisfied: packaging in /usr/local/lib/python3.7/dist-packages (from pint>=0.8.1->chatterbot) (21.3)\n",
            "Requirement already satisfied: importlib-metadata in /usr/local/lib/python3.7/dist-packages (from pint>=0.8.1->chatterbot) (4.12.0)\n",
            "Requirement already satisfied: six>=1.5 in /usr/local/lib/python3.7/dist-packages (from python-dateutil<2.8,>=2.7->chatterbot) (1.15.0)\n",
            "Requirement already satisfied: typing-extensions>=3.6.4 in /usr/local/lib/python3.7/dist-packages (from importlib-metadata->pint>=0.8.1->chatterbot) (4.1.1)\n",
            "Requirement already satisfied: zipp>=0.5 in /usr/local/lib/python3.7/dist-packages (from importlib-metadata->pint>=0.8.1->chatterbot) (3.8.1)\n",
            "Requirement already satisfied: pyparsing!=3.0.5,>=2.0.2 in /usr/local/lib/python3.7/dist-packages (from packaging->pint>=0.8.1->chatterbot) (3.0.9)\n"
          ]
        }
      ],
      "source": [
        "pip install chatterbot\n"
      ]
    },
    {
      "cell_type": "code",
      "source": [
        "from chatterbot import ChatBot as chatbot\n"
      ],
      "metadata": {
        "id": "pl-JjQsHre8j"
      },
      "execution_count": null,
      "outputs": []
    },
    {
      "cell_type": "code",
      "source": [
        "from chatterbot.trainers import ListTrainer"
      ],
      "metadata": {
        "id": "LnRUDD1Ern_t"
      },
      "execution_count": null,
      "outputs": []
    },
    {
      "cell_type": "code",
      "source": [
        "pip install spacy"
      ],
      "metadata": {
        "colab": {
          "base_uri": "https://localhost:8080/"
        },
        "id": "iDBKIIkXr1dF",
        "outputId": "4a150c12-0411-4f3b-edc6-ffc7bb2c316c"
      },
      "execution_count": null,
      "outputs": [
        {
          "output_type": "stream",
          "name": "stdout",
          "text": [
            "Looking in indexes: https://pypi.org/simple, https://us-python.pkg.dev/colab-wheels/public/simple/\n",
            "Requirement already satisfied: spacy in /usr/local/lib/python3.7/dist-packages (3.4.1)\n",
            "Requirement already satisfied: cymem<2.1.0,>=2.0.2 in /usr/local/lib/python3.7/dist-packages (from spacy) (2.0.6)\n",
            "Requirement already satisfied: srsly<3.0.0,>=2.4.3 in /usr/local/lib/python3.7/dist-packages (from spacy) (2.4.4)\n",
            "Requirement already satisfied: murmurhash<1.1.0,>=0.28.0 in /usr/local/lib/python3.7/dist-packages (from spacy) (1.0.8)\n",
            "Requirement already satisfied: numpy>=1.15.0 in /usr/local/lib/python3.7/dist-packages (from spacy) (1.21.6)\n",
            "Requirement already satisfied: requests<3.0.0,>=2.13.0 in /usr/local/lib/python3.7/dist-packages (from spacy) (2.23.0)\n",
            "Requirement already satisfied: catalogue<2.1.0,>=2.0.6 in /usr/local/lib/python3.7/dist-packages (from spacy) (2.0.8)\n",
            "Requirement already satisfied: pydantic!=1.8,!=1.8.1,<1.10.0,>=1.7.4 in /usr/local/lib/python3.7/dist-packages (from spacy) (1.9.2)\n",
            "Requirement already satisfied: spacy-loggers<2.0.0,>=1.0.0 in /usr/local/lib/python3.7/dist-packages (from spacy) (1.0.3)\n",
            "Requirement already satisfied: packaging>=20.0 in /usr/local/lib/python3.7/dist-packages (from spacy) (21.3)\n",
            "Requirement already satisfied: wasabi<1.1.0,>=0.9.1 in /usr/local/lib/python3.7/dist-packages (from spacy) (0.10.1)\n",
            "Requirement already satisfied: langcodes<4.0.0,>=3.2.0 in /usr/local/lib/python3.7/dist-packages (from spacy) (3.3.0)\n",
            "Requirement already satisfied: setuptools in /usr/local/lib/python3.7/dist-packages (from spacy) (57.4.0)\n",
            "Requirement already satisfied: jinja2 in /usr/local/lib/python3.7/dist-packages (from spacy) (2.11.3)\n",
            "Requirement already satisfied: typing-extensions<4.2.0,>=3.7.4 in /usr/local/lib/python3.7/dist-packages (from spacy) (4.1.1)\n",
            "Requirement already satisfied: typer<0.5.0,>=0.3.0 in /usr/local/lib/python3.7/dist-packages (from spacy) (0.4.2)\n",
            "Requirement already satisfied: pathy>=0.3.5 in /usr/local/lib/python3.7/dist-packages (from spacy) (0.6.2)\n",
            "Requirement already satisfied: preshed<3.1.0,>=3.0.2 in /usr/local/lib/python3.7/dist-packages (from spacy) (3.0.7)\n",
            "Requirement already satisfied: thinc<8.2.0,>=8.1.0 in /usr/local/lib/python3.7/dist-packages (from spacy) (8.1.0)\n",
            "Requirement already satisfied: tqdm<5.0.0,>=4.38.0 in /usr/local/lib/python3.7/dist-packages (from spacy) (4.64.1)\n",
            "Requirement already satisfied: spacy-legacy<3.1.0,>=3.0.9 in /usr/local/lib/python3.7/dist-packages (from spacy) (3.0.10)\n",
            "Requirement already satisfied: zipp>=0.5 in /usr/local/lib/python3.7/dist-packages (from catalogue<2.1.0,>=2.0.6->spacy) (3.8.1)\n",
            "Requirement already satisfied: pyparsing!=3.0.5,>=2.0.2 in /usr/local/lib/python3.7/dist-packages (from packaging>=20.0->spacy) (3.0.9)\n",
            "Requirement already satisfied: smart-open<6.0.0,>=5.2.1 in /usr/local/lib/python3.7/dist-packages (from pathy>=0.3.5->spacy) (5.2.1)\n",
            "Requirement already satisfied: idna<3,>=2.5 in /usr/local/lib/python3.7/dist-packages (from requests<3.0.0,>=2.13.0->spacy) (2.10)\n",
            "Requirement already satisfied: urllib3!=1.25.0,!=1.25.1,<1.26,>=1.21.1 in /usr/local/lib/python3.7/dist-packages (from requests<3.0.0,>=2.13.0->spacy) (1.24.3)\n",
            "Requirement already satisfied: chardet<4,>=3.0.2 in /usr/local/lib/python3.7/dist-packages (from requests<3.0.0,>=2.13.0->spacy) (3.0.4)\n",
            "Requirement already satisfied: certifi>=2017.4.17 in /usr/local/lib/python3.7/dist-packages (from requests<3.0.0,>=2.13.0->spacy) (2022.6.15)\n",
            "Requirement already satisfied: blis<0.8.0,>=0.7.8 in /usr/local/lib/python3.7/dist-packages (from thinc<8.2.0,>=8.1.0->spacy) (0.7.8)\n",
            "Requirement already satisfied: click<9.0.0,>=7.1.1 in /usr/local/lib/python3.7/dist-packages (from typer<0.5.0,>=0.3.0->spacy) (7.1.2)\n",
            "Requirement already satisfied: MarkupSafe>=0.23 in /usr/local/lib/python3.7/dist-packages (from jinja2->spacy) (2.0.1)\n"
          ]
        }
      ]
    },
    {
      "cell_type": "code",
      "source": [
        "pip install --upgrade spacy"
      ],
      "metadata": {
        "colab": {
          "base_uri": "https://localhost:8080/"
        },
        "id": "WtqljlXssqgM",
        "outputId": "d8454cea-3278-4b77-f822-c7d07838644b"
      },
      "execution_count": null,
      "outputs": [
        {
          "output_type": "stream",
          "name": "stdout",
          "text": [
            "Looking in indexes: https://pypi.org/simple, https://us-python.pkg.dev/colab-wheels/public/simple/\n",
            "Requirement already satisfied: spacy in /usr/local/lib/python3.7/dist-packages (3.4.1)\n",
            "Requirement already satisfied: wasabi<1.1.0,>=0.9.1 in /usr/local/lib/python3.7/dist-packages (from spacy) (0.10.1)\n",
            "Requirement already satisfied: pydantic!=1.8,!=1.8.1,<1.10.0,>=1.7.4 in /usr/local/lib/python3.7/dist-packages (from spacy) (1.9.2)\n",
            "Requirement already satisfied: murmurhash<1.1.0,>=0.28.0 in /usr/local/lib/python3.7/dist-packages (from spacy) (1.0.8)\n",
            "Requirement already satisfied: jinja2 in /usr/local/lib/python3.7/dist-packages (from spacy) (2.11.3)\n",
            "Requirement already satisfied: packaging>=20.0 in /usr/local/lib/python3.7/dist-packages (from spacy) (21.3)\n",
            "Requirement already satisfied: spacy-legacy<3.1.0,>=3.0.9 in /usr/local/lib/python3.7/dist-packages (from spacy) (3.0.10)\n",
            "Requirement already satisfied: tqdm<5.0.0,>=4.38.0 in /usr/local/lib/python3.7/dist-packages (from spacy) (4.64.1)\n",
            "Requirement already satisfied: cymem<2.1.0,>=2.0.2 in /usr/local/lib/python3.7/dist-packages (from spacy) (2.0.6)\n",
            "Requirement already satisfied: catalogue<2.1.0,>=2.0.6 in /usr/local/lib/python3.7/dist-packages (from spacy) (2.0.8)\n",
            "Requirement already satisfied: pathy>=0.3.5 in /usr/local/lib/python3.7/dist-packages (from spacy) (0.6.2)\n",
            "Requirement already satisfied: typing-extensions<4.2.0,>=3.7.4 in /usr/local/lib/python3.7/dist-packages (from spacy) (4.1.1)\n",
            "Requirement already satisfied: thinc<8.2.0,>=8.1.0 in /usr/local/lib/python3.7/dist-packages (from spacy) (8.1.0)\n",
            "Requirement already satisfied: preshed<3.1.0,>=3.0.2 in /usr/local/lib/python3.7/dist-packages (from spacy) (3.0.7)\n",
            "Requirement already satisfied: spacy-loggers<2.0.0,>=1.0.0 in /usr/local/lib/python3.7/dist-packages (from spacy) (1.0.3)\n",
            "Requirement already satisfied: requests<3.0.0,>=2.13.0 in /usr/local/lib/python3.7/dist-packages (from spacy) (2.23.0)\n",
            "Requirement already satisfied: srsly<3.0.0,>=2.4.3 in /usr/local/lib/python3.7/dist-packages (from spacy) (2.4.4)\n",
            "Requirement already satisfied: typer<0.5.0,>=0.3.0 in /usr/local/lib/python3.7/dist-packages (from spacy) (0.4.2)\n",
            "Requirement already satisfied: setuptools in /usr/local/lib/python3.7/dist-packages (from spacy) (57.4.0)\n",
            "Requirement already satisfied: langcodes<4.0.0,>=3.2.0 in /usr/local/lib/python3.7/dist-packages (from spacy) (3.3.0)\n",
            "Requirement already satisfied: numpy>=1.15.0 in /usr/local/lib/python3.7/dist-packages (from spacy) (1.21.6)\n",
            "Requirement already satisfied: zipp>=0.5 in /usr/local/lib/python3.7/dist-packages (from catalogue<2.1.0,>=2.0.6->spacy) (3.8.1)\n",
            "Requirement already satisfied: pyparsing!=3.0.5,>=2.0.2 in /usr/local/lib/python3.7/dist-packages (from packaging>=20.0->spacy) (3.0.9)\n",
            "Requirement already satisfied: smart-open<6.0.0,>=5.2.1 in /usr/local/lib/python3.7/dist-packages (from pathy>=0.3.5->spacy) (5.2.1)\n",
            "Requirement already satisfied: certifi>=2017.4.17 in /usr/local/lib/python3.7/dist-packages (from requests<3.0.0,>=2.13.0->spacy) (2022.6.15)\n",
            "Requirement already satisfied: urllib3!=1.25.0,!=1.25.1,<1.26,>=1.21.1 in /usr/local/lib/python3.7/dist-packages (from requests<3.0.0,>=2.13.0->spacy) (1.24.3)\n",
            "Requirement already satisfied: chardet<4,>=3.0.2 in /usr/local/lib/python3.7/dist-packages (from requests<3.0.0,>=2.13.0->spacy) (3.0.4)\n",
            "Requirement already satisfied: idna<3,>=2.5 in /usr/local/lib/python3.7/dist-packages (from requests<3.0.0,>=2.13.0->spacy) (2.10)\n",
            "Requirement already satisfied: blis<0.8.0,>=0.7.8 in /usr/local/lib/python3.7/dist-packages (from thinc<8.2.0,>=8.1.0->spacy) (0.7.8)\n",
            "Requirement already satisfied: click<9.0.0,>=7.1.1 in /usr/local/lib/python3.7/dist-packages (from typer<0.5.0,>=0.3.0->spacy) (7.1.2)\n",
            "Requirement already satisfied: MarkupSafe>=0.23 in /usr/local/lib/python3.7/dist-packages (from jinja2->spacy) (2.0.1)\n"
          ]
        }
      ]
    },
    {
      "cell_type": "code",
      "source": [
        "import spacy\n",
        "from spacy.cli.download import download\n",
        "download(model=\"en_core_web_sm\")"
      ],
      "metadata": {
        "colab": {
          "base_uri": "https://localhost:8080/"
        },
        "id": "Sb6nyjcXs2F8",
        "outputId": "87c6fb19-794a-4b31-f1e4-3dc4aae30f9f"
      },
      "execution_count": null,
      "outputs": [
        {
          "output_type": "stream",
          "name": "stdout",
          "text": [
            "\u001b[38;5;2m✔ Download and installation successful\u001b[0m\n",
            "You can now load the package via spacy.load('en_core_web_sm')\n"
          ]
        }
      ]
    },
    {
      "cell_type": "code",
      "source": [
        "nlp = spacy.load('en_core_web_sm')"
      ],
      "metadata": {
        "id": "rN4XzB4xtTIM"
      },
      "execution_count": null,
      "outputs": []
    },
    {
      "cell_type": "code",
      "source": [
        "pip install chatterbot_corpus"
      ],
      "metadata": {
        "colab": {
          "base_uri": "https://localhost:8080/"
        },
        "id": "Cx49RxnctYoi",
        "outputId": "3c234eb5-bcf2-4450-e580-7f60cb73b608"
      },
      "execution_count": null,
      "outputs": [
        {
          "output_type": "stream",
          "name": "stdout",
          "text": [
            "Looking in indexes: https://pypi.org/simple, https://us-python.pkg.dev/colab-wheels/public/simple/\n",
            "Requirement already satisfied: chatterbot_corpus in /usr/local/lib/python3.7/dist-packages (1.2.0)\n",
            "Requirement already satisfied: PyYAML<4.0,>=3.12 in /usr/local/lib/python3.7/dist-packages (from chatterbot_corpus) (3.13)\n"
          ]
        }
      ]
    },
    {
      "cell_type": "code",
      "source": [
        "from chatterbot import ChatBot\n",
        "from chatterbot.trainers import ListTrainer\n"
      ],
      "metadata": {
        "id": "9YSiPUtDvRfx"
      },
      "execution_count": null,
      "outputs": []
    },
    {
      "cell_type": "code",
      "source": [],
      "metadata": {
        "id": "CjGHEJBYvueL"
      },
      "execution_count": null,
      "outputs": []
    },
    {
      "cell_type": "code",
      "source": [
        "chatbot=ChatBot('Bot',\n",
        "                logic_adapters=[\n",
        "        'chatterbot.logic.BestMatch',\n",
        "        'chatterbot.logic.TimeLogicAdapter']) "
      ],
      "metadata": {
        "colab": {
          "base_uri": "https://localhost:8080/"
        },
        "id": "AfY2mZbFvSP2",
        "outputId": "76416fe1-0a73-44aa-c031-caadb027fa7d"
      },
      "execution_count": null,
      "outputs": [
        {
          "output_type": "stream",
          "name": "stderr",
          "text": [
            "[nltk_data] Downloading package averaged_perceptron_tagger to\n",
            "[nltk_data]     /root/nltk_data...\n",
            "[nltk_data]   Package averaged_perceptron_tagger is already up-to-\n",
            "[nltk_data]       date!\n",
            "[nltk_data] Downloading package punkt to /root/nltk_data...\n",
            "[nltk_data]   Package punkt is already up-to-date!\n",
            "[nltk_data] Downloading package stopwords to /root/nltk_data...\n",
            "[nltk_data]   Package stopwords is already up-to-date!\n"
          ]
        }
      ]
    },
    {
      "cell_type": "code",
      "source": [
        "trainer = ListTrainer(chatbot)\n",
        "  \n",
        "trainer.train([\n",
        "    'Hi',\n",
        "    'Hello',\n",
        "    'I need roadmap for Competitive Programming',\n",
        "    'Just create an account on GFG and start',\n",
        "    'I have a query.',\n",
        "    'Please elaborate, your concern',\n",
        "    'How long it will take to become expert in Coding ?',\n",
        "    'It usually depends on the amount of practice.',\n",
        "    'Ok Thanks',\n",
        "    'No Problem! Have a Good Day!'\n",
        "])"
      ],
      "metadata": {
        "colab": {
          "base_uri": "https://localhost:8080/"
        },
        "id": "5W6YY2SW3BrL",
        "outputId": "d4d01be5-74a0-47a3-8e22-f92409683036"
      },
      "execution_count": null,
      "outputs": [
        {
          "output_type": "stream",
          "name": "stdout",
          "text": [
            "List Trainer: [####################] 100%\n"
          ]
        }
      ]
    },
    {
      "cell_type": "code",
      "source": [
        "bot = ChatBot('Bot')\n",
        "  \n",
        "trainer = ListTrainer(chatbot)\n",
        "  \n",
        "trainer.train([\n",
        "    'Hi',\n",
        "    'Hello',\n",
        "    'I need roadmap for Competitive Programming',\n",
        "    'Just create an account on GFG and start',\n",
        "    'I have a query.',\n",
        "    'Please elaborate, your concern',\n",
        "    'How long it will take to become expert in Coding ?',\n",
        "    'It usually depends on the amount of practice.',\n",
        "    'Ok Thanks',\n",
        "    'No Problem! Have a Good Day!'\n",
        "])\n",
        "  \n",
        "\n"
      ],
      "metadata": {
        "colab": {
          "base_uri": "https://localhost:8080/"
        },
        "id": "WlEFkp3d6hpD",
        "outputId": "5f300aab-f957-41a8-ff1f-cbc8cac062ca"
      },
      "execution_count": null,
      "outputs": [
        {
          "output_type": "stream",
          "name": "stdout",
          "text": [
            "List Trainer: [####################] 100%"
          ]
        },
        {
          "output_type": "stream",
          "name": "stderr",
          "text": [
            "[nltk_data] Downloading package averaged_perceptron_tagger to\n",
            "[nltk_data]     /root/nltk_data...\n",
            "[nltk_data]   Package averaged_perceptron_tagger is already up-to-\n",
            "[nltk_data]       date!\n",
            "[nltk_data] Downloading package punkt to /root/nltk_data...\n",
            "[nltk_data]   Package punkt is already up-to-date!\n",
            "[nltk_data] Downloading package stopwords to /root/nltk_data...\n",
            "[nltk_data]   Package stopwords is already up-to-date!\n"
          ]
        },
        {
          "output_type": "stream",
          "name": "stdout",
          "text": [
            "\r\n",
            "you :Hi\n",
            "Bot: Hello\n",
            "you :I have a query\n",
            "Bot: Please elaborate, your concern\n",
            "you :I am single\n",
            "Bot: No Problem! Have a Good Day!\n",
            "you :but I am sad\n",
            "Bot: It usually depends on the amount of practice.\n",
            "you :How can I get a gf?\n",
            "Bot: Please elaborate, your concern\n",
            "you :I want a girlfriend\n",
            "Bot: Please elaborate, your concern\n",
            "you :ok\n",
            "Bot: bye\n"
          ]
        }
      ]
    },
    {
      "cell_type": "code",
      "source": [
        "\n",
        "def certification(n):\n",
        " \n",
        " \n",
        "      if n==\"machine learning\".lower():\n",
        "          return 1\n",
        "      elif n==\"hadoop\".lower():\n",
        "          return 2\n",
        "      elif n==\"python\".lower():\n",
        "          return 3\n",
        "      elif n==\"information security\".lower():\n",
        "          return 4\n",
        "      elif n==\"app development\".lower():\n",
        "        return 5\n",
        "      elif n==\"shell programming\".lower():\n",
        "        return 6\n",
        "      elif n==\"r programming\".lower():\n",
        "        return 7\n",
        "      elif n==\"distro making\".lower():\n",
        "        return 8 \n",
        "      elif n==\"full stack\".lower():\n",
        "        return 9\n",
        "      else:\n",
        "        return -1\n",
        "\t\t\n",
        "\n",
        "def workshop(n):\n",
        " \n",
        " \n",
        "      if n==\"data science\".lower():\n",
        "          return 1\n",
        "      elif n==\"system designing\".lower():\n",
        "          return 2\n",
        "      elif n==\"testing\".lower():\n",
        "          return 3\n",
        "      elif n==\"game development\".lower():\n",
        "          return 4\n",
        "      elif n==\"web technologies\".lower():\n",
        "        return 5\n",
        "      elif n==\"database security\".lower():\n",
        "        return 6\n",
        "      elif n==\"hacking\".lower():\n",
        "        return 7\n",
        "      elif n==\"cloud computing\".lower():\n",
        "        return 8 \n",
        "      else:\n",
        "        return -1\n",
        "\t\t\n",
        "def interested_subject(n):\n",
        " \n",
        " \n",
        "      if n==\"IOT\".lower():\n",
        "          return 1\n",
        "      elif n==\"programming\".lower():\n",
        "          return 2\n",
        "      elif n==\"Computer Architecture\".lower():\n",
        "          return 3\n",
        "      elif n==\"Management\".lower():\n",
        "          return 4\n",
        "      elif n==\"Software Engineering\".lower():\n",
        "        return 5\n",
        "      elif n==\"hacking\".lower():\n",
        "        return 6\n",
        "      elif n==\"parallel computing\".lower():\n",
        "        return 7\n",
        "      elif n==\"cloud computing\".lower():\n",
        "        return 8 \n",
        "      elif n==\"networks\".lower():\n",
        "        return 9\n",
        "      elif n==\"data engineering\".lower():\n",
        "        return 10     \n",
        "      else:\n",
        "        return -1\n",
        "\t\t\n",
        "def interested_career_area(n):\n",
        " \n",
        " \n",
        "      if n==\"testing\".lower():\n",
        "          return 1\n",
        "      elif n==\"system developer\".lower():\n",
        "          return 2\n",
        "      elif n==\"security\".lower():\n",
        "          return 3\n",
        "      elif n==\"Business process analyst\".lower():\n",
        "          return 4\n",
        "      elif n==\"developer\".lower():\n",
        "        return 5\n",
        "      elif n==\"cloud computing\".lower():\n",
        "        return 6\n",
        "      else:\n",
        "        return -1\n",
        "\t\t\n",
        "def company_type(n):\n",
        " \n",
        " \n",
        "      if n==\"SAaS services\".lower():\n",
        "          return 1\n",
        "      elif n==\"Product based\".lower():\n",
        "          return 2\n",
        "      elif n==\"Service Based\".lower():\n",
        "          return 3\n",
        "      elif n==\"BPA\".lower():\n",
        "          return 4\n",
        "      elif n==\"Cloud Services\".lower():\n",
        "        return 5\n",
        "      elif n==\"Web Services\".lower():\n",
        "        return 6\n",
        "      elif n==\"Finance\".lower():\n",
        "        return 7\n",
        "      elif n==\"Testing and Maintenance Services\".lower():\n",
        "        return 8 \n",
        "      elif n==\"Sales and Marketing\".lower():\n",
        "        return 9\n",
        "      elif n==\"product development\".lower():\n",
        "        return 10     \n",
        "      else:\n",
        "        return -1\n",
        "\t\t\n",
        "def job_role(n):\n",
        " \n",
        " \n",
        "      if n==1:\n",
        "          return \"Database Developer\"\n",
        "      elif n==2:\n",
        "          return \"Network Security Engineer\"\n",
        "      elif n==3:\n",
        "          return \"CRM Technical Developer\"\n",
        "      elif n==4:\n",
        "          return \"Solutions Architect\"\n",
        "      elif n==5:\n",
        "        return \"Technical Services/Help Desk/Tech Support\"\n",
        "      elif n==6:\n",
        "        return \"Technical Engineer\"\n",
        "      elif n==7:\n",
        "        return \"UX Designer\"\n",
        "      elif n==8:\n",
        "        return \"CRM Business Analyst\"\n",
        "      elif n==9:\n",
        "        return \"Mobile Applications Developer\"\n",
        "      elif n==10:\n",
        "        return \"Software Engineer\"\n",
        "      elif n==11:\n",
        "        return \"Programmer Analyst\"\n",
        "      elif n==12:\n",
        "        return \"E-Commerce Analyst\"\n",
        "      elif n==13:\n",
        "        return \"Portal Administrator\"\n",
        "      elif n==14:\n",
        "        return \"Software Quality Assurance (QA) / Testing\"\n",
        "      elif n==15:\n",
        "        return \"Software Developer\"\n",
        "      elif n==16:\n",
        "        return \"Web Developer\"\n",
        "      elif n==17:\n",
        "        return \"Database Administrator\"\n",
        "      elif n==18:\n",
        "        return \"Data Architect\"\n",
        "      elif n==19:\n",
        "        return \"Business Systems Analyst\"\n",
        "      elif n==20:\n",
        "        return \"Database Manager\"\n",
        "      elif n==21:\n",
        "        return \"Quality Assurance Associate\"\n",
        "      elif n==22:\n",
        "        return \"Design & UX\"    \n",
        "      elif n==23:\n",
        "        return \"Project Manager\"\n",
        "      elif n==24:\n",
        "        return \"Systems Analyst\"\n",
        "      elif n==25:\n",
        "        return \"Applications Developer\"\n",
        "      elif n==26:\n",
        "        return \"Network Engineer\"\n",
        "      elif n==27:\n",
        "        return \"Information Technology Auditor\"\n",
        "      elif n==28:\n",
        "        return \"Information Technology Manager\"     \n",
        "      elif n==29:\n",
        "        return \"Software Systems Engineer\"\n",
        "      elif n==30:\n",
        "        return \"Network Security Administrator\"\n",
        "      elif n==31:\n",
        "        return \"Information Security Analyst\"\n",
        "      elif n==32:\n",
        "        return \"Technical Support\"   \n",
        "      elif n==33:\n",
        "        return \"Business Intelligence Analyst\"\n",
        "      elif n==34:\n",
        "        return \"Systems Security Administrator\"   \n",
        "      else:\n",
        "        return -1\n",
        "\t\t\n",
        "def job_hs(n):\n",
        " \n",
        " \n",
        "      if n==\"job\".lower():\n",
        "          return 2\n",
        "      elif n==\"higherstudies\".lower():\n",
        "          return 3\n",
        "      else:\n",
        "        return -1\n",
        "\t\t\n",
        "def mng_tech(n):\n",
        " \n",
        " \n",
        "      if n==\"Technical\".lower():\n",
        "          return 2\n",
        "      elif n==\"Management\".lower():\n",
        "          return 3\n",
        "      else:\n",
        "        return -1"
      ],
      "metadata": {
        "id": "TpAC0EJFYJky"
      },
      "execution_count": null,
      "outputs": []
    },
    {
      "cell_type": "code",
      "source": [
        "\n",
        "q_counter=0\n",
        "flag=0\n",
        "q_list=[\"What is your percentage in Operating System?\",\n",
        "\"What is your percentage in Algorithms?\",\"What is your percentage in Programming Concepts?\",\n",
        "\"What is your percentage in Software Engineering?\",\"What is your percentage in Computer Networks?\",\n",
        "\"What is your percentage in Electronics Subjects\",\n",
        "\"What is your percentage in Computer Architecture\",\n",
        "\"What is your percentage in Mathematics\",\n",
        "\"What is your percentage in  Communication skills\",\n",
        "\"How many hours can you work in a day?\",\n",
        "\"How much would you rate your Logical Quotient from 1-10?\",\n",
        "\"How many hackathons have you participated in?\",\n",
        "\"How much would you rate your coding skills from 1-10?\",\n",
        "\"How much would you rate your public speaking skills from 1-10?\",\n",
        "\"Can you work in front of a computer?(yes or no)\",\n",
        "\"Do you have self-learning capability?(yes or no)\",\n",
        "\"What extra courses have you done?\",\n",
        "\"What type of workshops have you attended?\",\n",
        "\"Which subject are you mostly interested in?\",\n",
        "\"What are your career interests?\",\n",
        "\"Do you want to choose job or higher studies?\",\n",
        "\"What type of company would you like to settle in?\",\n",
        "\"Do you want to work in management or techincal sector?\",\n",
        "\"Have you ever worked in teams?\"]\n",
        "\n",
        "a=[]\n",
        "def get_response_(sentence):\n",
        "\n",
        "    if(q_counter==0):\n",
        "        flag=1\n",
        "        q_counter+=1\n",
        "        return q_list[q_counter-1]\n",
        "    if(q_counter==1):\n",
        "        a.append(int(sentence))\n",
        "        q_counter+=1\n",
        "        return q_list[q_counter-1]\n",
        "    if(q_counter==2):\n",
        "        a.append(int(sentence))\n",
        "        q_counter+=1\n",
        "        return q_list[q_counter-1]\n",
        "    if(q_counter==3):\n",
        "        a.append(int(sentence))\n",
        "        q_counter+=1\n",
        "        return q_list[q_counter-1]\n",
        "    if(q_counter==4):\n",
        "        a.append(int(sentence))\n",
        "        q_counter+=1\n",
        "        return q_list[q_counter-1]\n",
        "    if(q_counter==5):\n",
        "        a.append(int(sentence))\n",
        "        q_counter+=1\n",
        "        return q_list[q_counter-1]\n",
        "    if(q_counter==6):\n",
        "        a.append(int(sentence))\n",
        "        q_counter+=1\n",
        "        return q_list[q_counter-1]\n",
        "    if(q_counter==7):\n",
        "        a.append(int(sentence))\n",
        "        q_counter+=1\n",
        "        return q_list[q_counter-1]\n",
        "    if(q_counter==8):\n",
        "        a.append(int(sentence))\n",
        "        q_counter+=1\n",
        "        return q_list[q_counter-1]\n",
        "    if(q_counter==9):\n",
        "        a.append(int(sentence))\n",
        "        q_counter+=1\n",
        "        return q_list[q_counter-1]\n",
        "    if(q_counter==10):\n",
        "        a.append(int(sentence))\n",
        "        q_counter+=1\n",
        "        return q_list[q_counter-1]\n",
        "    if(q_counter==11):\n",
        "        a.append(int(sentence))\n",
        "        q_counter+=1\n",
        "        return q_list[q_counter-1]\n",
        "    if(q_counter==12):\n",
        "        a.append(int(sentence))\n",
        "        q_counter+=1\n",
        "        return q_list[q_counter-1]\n",
        "    if(q_counter==13):\n",
        "        a.append(int(sentence))\n",
        "        q_counter+=1\n",
        "        return q_list[q_counter-1]\n",
        "    if(q_counter==14):\n",
        "        a.append(int(sentence))\n",
        "        q_counter+=1\n",
        "        return q_list[q_counter-1]\n",
        "    if(q_counter==15):\n",
        "        res=1 if sentence.lower()==\"yes\" else 0\n",
        "        a.append(res)\n",
        "        q_counter+=1\n",
        "        return q_list[q_counter-1]\n",
        "    if(q_counter==16):\n",
        "        res=1 if sentence.lower()==\"yes\" else 0\n",
        "        a.append(res)\n",
        "        q_counter+=1\n",
        "        return q_list[q_counter-1]\n",
        "    if(q_counter==17):\n",
        "        res=certification(sentence.lower())\n",
        "        a.append(res)\n",
        "        q_counter+=1\n",
        "        return q_list[q_counter-1]\n",
        "    if(q_counter==18):\n",
        "        res=workshop(sentence.lower())\n",
        "        a.append(res)\n",
        "        q_counter+=1\n",
        "        return q_list[q_counter-1]\n",
        "    if(q_counter==19):\n",
        "        res=interested_subject(sentence.lower())\n",
        "        a.append(res)\n",
        "        q_counter+=1\n",
        "        return q_list[q_counter-1]\n",
        "    if(q_counter==20):\n",
        "        res=interested_career_area(sentence.lower())\n",
        "        a.append(res)\n",
        "        q_counter+=1\n",
        "        return q_list[q_counter-1]\n",
        "    if(q_counter==21):\n",
        "        res=job_hs(sentence.lower())\n",
        "        a.append(res)\n",
        "        q_counter+=1\n",
        "        return q_list[q_counter-1]\n",
        "    if(q_counter==22):\n",
        "        res=company_type(sentence.lower())\n",
        "        a.append(res)\n",
        "        q_counter+=1\n",
        "        return q_list[q_counter-1]\n",
        "    if(q_counter==23):\n",
        "        res=mng_tech(sentence.lower())\n",
        "        a.append(res)\n",
        "        q_counter+=1\n",
        "        flag=2\n",
        "        return q_list[q_counter-1]\n",
        "    if(flag==2):\n",
        "        res=1 if sentence.lower()==\"yes\" else \"no\"\n",
        "        a.append(res)\n",
        "        q_counter+=1\n",
        "        flag=0\n",
        "        result=rf_m.predict(a)\n",
        "        return job_role(result)\n",
        "    \n",
        "    \n",
        "\n",
        "\n",
        "\n"
      ],
      "metadata": {
        "id": "uJeMf37lG0GT"
      },
      "execution_count": null,
      "outputs": []
    },
    {
      "cell_type": "code",
      "source": [
        "while True:\n",
        "    request=input('You :')\n",
        "    if request.lower() == 'quit':\n",
        "        print('Bot: bye')\n",
        "        break\n",
        "    elif request.lower()==\"get career guidance\":\n",
        "      response=get_response_(request)\n",
        "      print('Bot:',response)\n",
        "    else:\n",
        "        response=bot.get_response(request)\n",
        "        print('Bot:', response)\n"
      ],
      "metadata": {
        "id": "GcNQid4zG72q"
      },
      "execution_count": null,
      "outputs": []
    }
  ]
}